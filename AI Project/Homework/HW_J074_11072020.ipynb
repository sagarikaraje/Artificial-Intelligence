{
  "nbformat": 4,
  "nbformat_minor": 0,
  "metadata": {
    "colab": {
      "name": "HW_J074_110720.ipynb",
      "provenance": [],
      "collapsed_sections": [],
      "toc_visible": true,
      "include_colab_link": true
    },
    "kernelspec": {
      "name": "python3",
      "display_name": "Python 3"
    }
  },
  "cells": [
    {
      "cell_type": "markdown",
      "metadata": {
        "id": "view-in-github",
        "colab_type": "text"
      },
      "source": [
        "<a href=\"https://colab.research.google.com/github/sagarikaraje/Artificial-Intelligence/blob/master/HW_J074_110720.ipynb\" target=\"_parent\"><img src=\"https://colab.research.google.com/assets/colab-badge.svg\" alt=\"Open In Colab\"/></a>"
      ]
    },
    {
      "cell_type": "code",
      "metadata": {
        "id": "R7MHrn28ltpC",
        "colab_type": "code",
        "colab": {
          "base_uri": "https://localhost:8080/",
          "height": 72
        },
        "outputId": "e53a0b22-b091-4d87-d718-e4ef7f28c6b2"
      },
      "source": [
        "import numpy as np\n",
        "import pandas as pd\n",
        "import matplotlib.pyplot as plt\n",
        "import seaborn as sns"
      ],
      "execution_count": 4,
      "outputs": [
        {
          "output_type": "stream",
          "text": [
            "/usr/local/lib/python3.6/dist-packages/statsmodels/tools/_testing.py:19: FutureWarning: pandas.util.testing is deprecated. Use the functions in the public API at pandas.testing instead.\n",
            "  import pandas.util.testing as tm\n"
          ],
          "name": "stderr"
        }
      ]
    },
    {
      "cell_type": "code",
      "metadata": {
        "id": "W5JHM7XsnKjJ",
        "colab_type": "code",
        "colab": {}
      },
      "source": [
        "class DataRead1():\n",
        "  def __init__(self,filename):\n",
        "    self.data = pd.read_csv(filename)\n",
        "\n",
        "  def display_rows(self,x,y):\n",
        "    print(self.data.iloc[[x, y]])\n",
        "\n",
        "class DataRead2(DataRead1):\n",
        "  def plot_correlation(self):\n",
        "    datatemp = self.data\n",
        "    correlation = datatemp.corr()\n",
        "    sns.heatmap(correlation)\n",
        "    plt.show()\n",
        "\n",
        "  def display_rows(self,x,y,z):\n",
        "    print(self.data.iloc[[x, y, z]])"
      ],
      "execution_count": 12,
      "outputs": []
    },
    {
      "cell_type": "markdown",
      "metadata": {
        "id": "2Wdb2nx13yb3",
        "colab_type": "text"
      },
      "source": [
        "#CUSTOM CLASS TO READ DATA INTO A PANDAS DATAFRAME"
      ]
    },
    {
      "cell_type": "code",
      "metadata": {
        "id": "wNjCjVbMnbWu",
        "colab_type": "code",
        "colab": {
          "base_uri": "https://localhost:8080/",
          "height": 156
        },
        "outputId": "b550a103-0701-476c-e88a-07f58010d530"
      },
      "source": [
        "filename = \"https://s3-api.us-geo.objectstorage.softlayer.net/cf-courses-data/CognitiveClass/DA0101EN/auto.csv\"\n",
        "auto = DataRead1(filename)\n",
        "print(auto.data.head())"
      ],
      "execution_count": 13,
      "outputs": [
        {
          "output_type": "stream",
          "text": [
            "   3    ?  alfa-romero  gas  std   two  ...   9.0  111  5000  21  27  13495\n",
            "0  3    ?  alfa-romero  gas  std   two  ...   9.0  111  5000  21  27  16500\n",
            "1  1    ?  alfa-romero  gas  std   two  ...   9.0  154  5000  19  26  16500\n",
            "2  2  164         audi  gas  std  four  ...  10.0  102  5500  24  30  13950\n",
            "3  2  164         audi  gas  std  four  ...   8.0  115  5500  18  22  17450\n",
            "4  2    ?         audi  gas  std   two  ...   8.5  110  5500  19  25  15250\n",
            "\n",
            "[5 rows x 26 columns]\n"
          ],
          "name": "stdout"
        }
      ]
    },
    {
      "cell_type": "markdown",
      "metadata": {
        "id": "U8wmi9RU3-yl",
        "colab_type": "text"
      },
      "source": [
        "#CREATING CUSTOM FUNCTION 'ROWSELECT' TO SELECT ANY TWO ROWS OF THE DATAFRAME"
      ]
    },
    {
      "cell_type": "code",
      "metadata": {
        "id": "e6Quf1EarohL",
        "colab_type": "code",
        "colab": {
          "base_uri": "https://localhost:8080/",
          "height": 139
        },
        "outputId": "a0904eb1-2529-4e68-fe11-d2b7629d1c22"
      },
      "source": [
        "row1 = int(input('Enter row number to be displayed: '))\n",
        "row2 = int(input('Enter row number to be displayed: '))\n",
        "auto.display_rows(row1-1,row2-1)"
      ],
      "execution_count": 14,
      "outputs": [
        {
          "output_type": "stream",
          "text": [
            "Enter row number to be displayed: 3\n",
            "Enter row number to be displayed: 4\n",
            "   3    ? alfa-romero  gas  std   two  ...   9.0  111  5000  21  27  13495\n",
            "2  2  164        audi  gas  std  four  ...  10.0  102  5500  24  30  13950\n",
            "3  2  164        audi  gas  std  four  ...   8.0  115  5500  18  22  17450\n",
            "\n",
            "[2 rows x 26 columns]\n"
          ],
          "name": "stdout"
        }
      ]
    },
    {
      "cell_type": "markdown",
      "metadata": {
        "id": "UMuYmLeD4PdJ",
        "colab_type": "text"
      },
      "source": [
        "#CREATE A SUBCLASS OF DATAREAD1 AS DATAREAD2 THAT HAS FUNCTION FOR CORRELATION PLOTS"
      ]
    },
    {
      "cell_type": "code",
      "metadata": {
        "id": "ilhOZ26yr_9O",
        "colab_type": "code",
        "colab": {
          "base_uri": "https://localhost:8080/",
          "height": 269
        },
        "outputId": "ee88dd16-d139-46c2-bd16-0d0ecfe6bbd7"
      },
      "source": [
        "auto1 = DataRead2(filename)\n",
        "auto1.plot_correlation()"
      ],
      "execution_count": 15,
      "outputs": [
        {
          "output_type": "display_data",
          "data": {
            "image/png": "[encoded data removed]",
            "text/plain": [
              "<Figure size 432x288 with 2 Axes>"
            ]
          },
          "metadata": {
            "tags": [],
            "needs_background": "light"
          }
        }
      ]
    },
    {
      "cell_type": "markdown",
      "metadata": {
        "id": "AzIuvJfA4Yeo",
        "colab_type": "text"
      },
      "source": [
        "#WITHIN DATAREAD2, ALSO CREATE A FUNCTION TO OVERRIDE THE CUSTOM FUNCTION OF DATAREAD1 ROW_SELECT TO SELECT 3 ROWS"
      ]
    },
    {
      "cell_type": "code",
      "metadata": {
        "id": "tDKEXdRNwVN_",
        "colab_type": "code",
        "colab": {
          "base_uri": "https://localhost:8080/",
          "height": 173
        },
        "outputId": "1c973140-f1af-4db3-e0e6-8c80da829816"
      },
      "source": [
        "x = int(input('Enter row number to be displayed: '))\n",
        "y = int(input('Enter row number to be displayed: '))\n",
        "z = int(input('Enter row number to be displayed: '))\n",
        "auto1.display_rows(x-1,y-1,z-1)"
      ],
      "execution_count": 16,
      "outputs": [
        {
          "output_type": "stream",
          "text": [
            "Enter row number to be displayed: 4\n",
            "Enter row number to be displayed: 5\n",
            "Enter row number to be displayed: 6\n",
            "   3    ? alfa-romero  gas  std   two  ...  9.0  111  5000  21  27  13495\n",
            "3  2  164        audi  gas  std  four  ...  8.0  115  5500  18  22  17450\n",
            "4  2    ?        audi  gas  std   two  ...  8.5  110  5500  19  25  15250\n",
            "5  1  158        audi  gas  std  four  ...  8.5  110  5500  19  25  17710\n",
            "\n",
            "[3 rows x 26 columns]\n"
          ],
          "name": "stdout"
        }
      ]
    }
  ]
}
