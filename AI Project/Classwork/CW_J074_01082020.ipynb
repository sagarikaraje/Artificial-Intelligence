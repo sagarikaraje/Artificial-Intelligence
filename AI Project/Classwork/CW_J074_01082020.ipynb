{
  "nbformat": 4,
  "nbformat_minor": 0,
  "metadata": {
    "colab": {
      "name": "CW_J074_01082020.ipynb",
      "provenance": [],
      "collapsed_sections": [],
      "include_colab_link": true
    },
    "kernelspec": {
      "name": "python3",
      "display_name": "Python 3"
    }
  },
  "cells": [
    {
      "cell_type": "markdown",
      "metadata": {
        "id": "view-in-github",
        "colab_type": "text"
      },
      "source": [
        "<a href=\"https://colab.research.google.com/github/sagarikaraje/Artificial-Intelligence/blob/master/CW_J074_01082020.ipynb\" target=\"_parent\"><img src=\"https://colab.research.google.com/assets/colab-badge.svg\" alt=\"Open In Colab\"/></a>"
      ]
    },
    {
      "cell_type": "code",
      "metadata": {
        "id": "DZ6WpTRm77mX",
        "colab_type": "code",
        "colab": {
          "base_uri": "https://localhost:8080/",
          "height": 35
        },
        "outputId": "42ee7a91-42e2-4e1d-bfe5-efd4b5801399"
      },
      "source": [
        "1 + 2 + 3 + 4\n",
        "(((1+2)+3)+4) "
      ],
      "execution_count": 1,
      "outputs": [
        {
          "output_type": "execute_result",
          "data": {
            "text/plain": [
              "10"
            ]
          },
          "metadata": {
            "tags": []
          },
          "execution_count": 1
        }
      ]
    },
    {
      "cell_type": "markdown",
      "metadata": {
        "id": "3bWeG9vsIF--",
        "colab_type": "text"
      },
      "source": [
        "<h3> Factorial Using Recrusion </h3>"
      ]
    },
    {
      "cell_type": "code",
      "metadata": {
        "id": "R96DLxwBDzre",
        "colab_type": "code",
        "colab": {
          "base_uri": "https://localhost:8080/",
          "height": 35
        },
        "outputId": "9d4975b2-300c-4948-c505-b1c95b17dd05"
      },
      "source": [
        "def factorial(n):\n",
        "  if (n==0):\n",
        "    return 1\n",
        "  else:\n",
        "    return (n*factorial(n-1))\n",
        "\n",
        "factorial(7)"
      ],
      "execution_count": 2,
      "outputs": [
        {
          "output_type": "execute_result",
          "data": {
            "text/plain": [
              "5040"
            ]
          },
          "metadata": {
            "tags": []
          },
          "execution_count": 2
        }
      ]
    },
    {
      "cell_type": "code",
      "metadata": {
        "id": "DRlIFK6aInNN",
        "colab_type": "code",
        "colab": {
          "base_uri": "https://localhost:8080/",
          "height": 35
        },
        "outputId": "e9b882c6-c801-423b-9411-f81d36cb0247"
      },
      "source": [
        "def fac(n):\n",
        "  factor = 1\n",
        "  for i in range(1,n+1):\n",
        "    factor = factor*i\n",
        "  return factor\n",
        "\n",
        "fac(7)"
      ],
      "execution_count": 3,
      "outputs": [
        {
          "output_type": "execute_result",
          "data": {
            "text/plain": [
              "5040"
            ]
          },
          "metadata": {
            "tags": []
          },
          "execution_count": 3
        }
      ]
    },
    {
      "cell_type": "markdown",
      "metadata": {
        "id": "We666IlhK6MW",
        "colab_type": "text"
      },
      "source": [
        "<h3> Fibonacci Series </h3>"
      ]
    },
    {
      "cell_type": "code",
      "metadata": {
        "id": "i7pyIvqxK9cY",
        "colab_type": "code",
        "colab": {
          "base_uri": "https://localhost:8080/",
          "height": 35
        },
        "outputId": "c15a54fb-296c-4116-aebc-732a68ea4ce2"
      },
      "source": [
        "def fibonacci(n):\n",
        "  if n <= 1:\n",
        "    return n\n",
        "  else:\n",
        "    return fibonacci(n-1)+fibonacci(n-2)\n",
        "\n",
        "fibonacci((9-1))"
      ],
      "execution_count": 4,
      "outputs": [
        {
          "output_type": "execute_result",
          "data": {
            "text/plain": [
              "21"
            ]
          },
          "metadata": {
            "tags": []
          },
          "execution_count": 4
        }
      ]
    },
    {
      "cell_type": "code",
      "metadata": {
        "id": "WffGPNPmQeN1",
        "colab_type": "code",
        "colab": {
          "base_uri": "https://localhost:8080/",
          "height": 35
        },
        "outputId": "055e8d0d-0a8d-4219-e724-c48849e97d92"
      },
      "source": [
        "def recur_fibo(n):\n",
        "  fibo = []\n",
        "  fibo.append(0); fibo.append(1)\n",
        "  for i in range (2, n+1):\n",
        "    fibo.append(fibo[i-1]+fibo[i-2])\n",
        "  return fibo[n]\n",
        "\n",
        "recur_fibo((9-1))"
      ],
      "execution_count": 5,
      "outputs": [
        {
          "output_type": "execute_result",
          "data": {
            "text/plain": [
              "21"
            ]
          },
          "metadata": {
            "tags": []
          },
          "execution_count": 5
        }
      ]
    },
    {
      "cell_type": "markdown",
      "metadata": {
        "id": "OkbePnNFXDQE",
        "colab_type": "text"
      },
      "source": [
        "<h3>Binary Search</h3>"
      ]
    },
    {
      "cell_type": "code",
      "metadata": {
        "id": "KTB6OGsoXG3N",
        "colab_type": "code",
        "colab": {
          "base_uri": "https://localhost:8080/",
          "height": 35
        },
        "outputId": "a2e79025-2f89-413b-dfbe-e8327fa95827"
      },
      "source": [
        "ls = [5,34,2,23,76,43,3,67,87,54]\n",
        "\n",
        "def bin_search(low, high, n, lt):\n",
        "  if high >= low:\n",
        "    mid = (high+low)//2\n",
        "    if lt[mid] == n:\n",
        "      return mid\n",
        "    elif n < lt[mid]:\n",
        "      return bin_search(low, mid-1, n, lt)\n",
        "    elif n > lt[mid]:\n",
        "      return bin_search(mid+1, high, n, lt)\n",
        "  else:\n",
        "    return 'Not Found'\n",
        "\n",
        "ls.sort()\n",
        "a = bin_search(0, len(ls)-1, 100, ls)\n",
        "print(a)"
      ],
      "execution_count": 6,
      "outputs": [
        {
          "output_type": "stream",
          "text": [
            "Not Found\n"
          ],
          "name": "stdout"
        }
      ]
    },
    {
      "cell_type": "markdown",
      "metadata": {
        "id": "if9rx3NhdEOE",
        "colab_type": "text"
      },
      "source": [
        "Tractable - PTIME (Polynomial Time Solvable)<br>\n",
        "Polynomial - Expression where each term is n^k where k can be any whole number<br>\n",
        "Degree of the polynomial highest power of the variable within the expression<br><br>\n",
        "Polynomial Time - Runtime of the code or solution should be a polynomial of degree k where k is a constant, and since it is time n cannot be negative<br>\n",
        "n : Input space or dimension\n",
        "eg O(n^4) - 3*n^4 + 2*n^2 + 1<br>\n",
        "n=1 => 1<br>\n",
        "n=2 => 2^4<br>\n",
        "n=3 => 3^4<br>\n",
        "n=4 => 4^4<br>\n",
        "\n",
        "O(n!)<br>\n",
        "n*n - 1*n - 2*n -> Polynomial Of Degree n-1"
      ]
    },
    {
      "cell_type": "code",
      "metadata": {
        "id": "C7ZNbhunctYh",
        "colab_type": "code",
        "colab": {}
      },
      "source": [
        ""
      ],
      "execution_count": 6,
      "outputs": []
    }
  ]
}
