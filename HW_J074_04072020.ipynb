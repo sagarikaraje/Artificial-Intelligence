{
  "nbformat": 4,
  "nbformat_minor": 0,
  "metadata": {
    "colab": {
      "name": "HW_J074_04072020",
      "provenance": [],
      "authorship_tag": "ABX9TyMRip6LM+gbyqcbEnbM3wcC",
      "include_colab_link": true
    },
    "kernelspec": {
      "name": "python3",
      "display_name": "Python 3"
    }
  },
  "cells": [
    {
      "cell_type": "markdown",
      "metadata": {
        "id": "view-in-github",
        "colab_type": "text"
      },
      "source": [
        "<a href=\"https://colab.research.google.com/github/sagarikaraje/Artificial-Intelligence/blob/master/HW_J074_04072020.ipynb\" target=\"_parent\"><img src=\"https://colab.research.google.com/assets/colab-badge.svg\" alt=\"Open In Colab\"/></a>"
      ]
    },
    {
      "cell_type": "markdown",
      "metadata": {
        "id": "5mJp2VLzVaRp",
        "colab_type": "text"
      },
      "source": [
        "**PYTHON IF ELSE**"
      ]
    },
    {
      "cell_type": "code",
      "metadata": {
        "id": "Xyl54sirV-o3",
        "colab_type": "code",
        "colab": {
          "base_uri": "https://localhost:8080/",
          "height": 52
        },
        "outputId": "0ec2137e-6a08-41a7-bb06-6cbe20a01057"
      },
      "source": [
        "n = int(input())\n",
        "if (n%2 !=0) or (n%2 ==0 and n>=6 and n<=20):\n",
        "    print ('Weird')\n",
        "elif (n%2==0 and (n>=2) and (n<=5)) or (n%2==0 and n>20):\n",
        "    print('Not Weird')"
      ],
      "execution_count": 1,
      "outputs": [
        {
          "output_type": "stream",
          "text": [
            "4\n",
            "Not Weird\n"
          ],
          "name": "stdout"
        }
      ]
    },
    {
      "cell_type": "markdown",
      "metadata": {
        "id": "1F1apaw5V3Gg",
        "colab_type": "text"
      },
      "source": [
        "**ARITHMETIC OPERATORS**"
      ]
    },
    {
      "cell_type": "code",
      "metadata": {
        "id": "GZPE5BnYV_Or",
        "colab_type": "code",
        "colab": {
          "base_uri": "https://localhost:8080/",
          "height": 104
        },
        "outputId": "4eb1756a-5b25-4751-d447-f30434699212"
      },
      "source": [
        "if __name__ == '__main__':\n",
        "    a = int(input())\n",
        "    b = int(input())\n",
        "\n",
        "print(a+b)\n",
        "print(a-b)\n",
        "print(a*b)"
      ],
      "execution_count": 2,
      "outputs": [
        {
          "output_type": "stream",
          "text": [
            "3\n",
            "2\n",
            "5\n",
            "1\n",
            "6\n"
          ],
          "name": "stdout"
        }
      ]
    },
    {
      "cell_type": "markdown",
      "metadata": {
        "id": "Kof_RiGDVapz",
        "colab_type": "text"
      },
      "source": [
        "**PYTHON: DIVISION**"
      ]
    },
    {
      "cell_type": "code",
      "metadata": {
        "id": "usm95zhaV_yx",
        "colab_type": "code",
        "colab": {
          "base_uri": "https://localhost:8080/",
          "height": 87
        },
        "outputId": "7723046a-223a-4f80-8166-95c620a5e2f7"
      },
      "source": [
        "if __name__ == '__main__':\n",
        "    a = int(input())\n",
        "    b = int(input())\n",
        "\n",
        "print(a//b)\n",
        "print(a/b)"
      ],
      "execution_count": 3,
      "outputs": [
        {
          "output_type": "stream",
          "text": [
            "6\n",
            "4\n",
            "1\n",
            "1.5\n"
          ],
          "name": "stdout"
        }
      ]
    },
    {
      "cell_type": "markdown",
      "metadata": {
        "id": "MkJM7lrgVa16",
        "colab_type": "text"
      },
      "source": [
        "**LOOPS**"
      ]
    },
    {
      "cell_type": "code",
      "metadata": {
        "id": "nWpNGpLDWAXd",
        "colab_type": "code",
        "colab": {
          "base_uri": "https://localhost:8080/",
          "height": 139
        },
        "outputId": "c81f2fb5-214a-40f4-f0f5-d2c99c82f673"
      },
      "source": [
        "if __name__ == '__main__':\n",
        "    n = int(input())\n",
        "\n",
        "for i in range(n):\n",
        "    print(i*i)"
      ],
      "execution_count": 4,
      "outputs": [
        {
          "output_type": "stream",
          "text": [
            "6\n",
            "0\n",
            "1\n",
            "4\n",
            "9\n",
            "16\n",
            "25\n"
          ],
          "name": "stdout"
        }
      ]
    },
    {
      "cell_type": "markdown",
      "metadata": {
        "id": "tZKNlA0DVbBc",
        "colab_type": "text"
      },
      "source": [
        "**PRINT FUNCTION**"
      ]
    },
    {
      "cell_type": "code",
      "metadata": {
        "id": "M_oTLC7rWBME",
        "colab_type": "code",
        "colab": {
          "base_uri": "https://localhost:8080/",
          "height": 52
        },
        "outputId": "6f67ec02-1a2c-4b80-8c32-f262b626e414"
      },
      "source": [
        "if __name__ == '__main__':\n",
        "    n = int(input())\n",
        "t=n\n",
        "for i in range(1,n+1):\n",
        "    print(i, end='')\n",
        "    "
      ],
      "execution_count": 5,
      "outputs": [
        {
          "output_type": "stream",
          "text": [
            "5\n",
            "12345"
          ],
          "name": "stdout"
        }
      ]
    },
    {
      "cell_type": "markdown",
      "metadata": {
        "id": "l6gNUWEyVbLc",
        "colab_type": "text"
      },
      "source": [
        "**LIST COMPREHENSIONS**"
      ]
    },
    {
      "cell_type": "code",
      "metadata": {
        "id": "VM1wkK1CWB2f",
        "colab_type": "code",
        "colab": {
          "base_uri": "https://localhost:8080/",
          "height": 124
        },
        "outputId": "e156288a-0892-4c3e-cb55-0a6c732828f5"
      },
      "source": [
        "\n",
        "if __name__ == '__main__':\n",
        "    x = int(input())\n",
        "    y = int(input())\n",
        "    z = int(input())\n",
        "    n = int(input())\n",
        "a = []\n",
        "for i in range(x+1):\n",
        "    for j in range(y+1):\n",
        "        for k in range(z+1):\n",
        "            if i+j+k != n:\n",
        "                a.append([i,j,k])\n",
        "print(a)"
      ],
      "execution_count": 8,
      "outputs": [
        {
          "output_type": "stream",
          "text": [
            "2\n",
            "2\n",
            "2\n",
            "2\n",
            "[[0, 0, 0], [0, 0, 1], [0, 1, 0], [0, 1, 2], [0, 2, 1], [0, 2, 2], [1, 0, 0], [1, 0, 2], [1, 1, 1], [1, 1, 2], [1, 2, 0], [1, 2, 1], [1, 2, 2], [2, 0, 1], [2, 0, 2], [2, 1, 0], [2, 1, 1], [2, 1, 2], [2, 2, 0], [2, 2, 1], [2, 2, 2]]\n"
          ],
          "name": "stdout"
        }
      ]
    }
  ]
}